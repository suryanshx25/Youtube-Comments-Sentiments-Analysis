{
 "cells": [
  {
   "cell_type": "code",
   "execution_count": 1,
   "metadata": {},
   "outputs": [],
   "source": [
    "import mlflow\n",
    "# Step 2: Set up the MLflow tracking server\n",
    "mlflow.set_tracking_uri(\"http://ec2-65-2-83-175.ap-south-1.compute.amazonaws.com:5000/\")"
   ]
  },
  {
   "cell_type": "code",
   "execution_count": 2,
   "metadata": {},
   "outputs": [
    {
     "name": "stderr",
     "output_type": "stream",
     "text": [
      "2024/10/13 16:48:42 INFO mlflow.tracking.fluent: Experiment with name 'Exp 5 - ML Algos with HP Tuning' does not exist. Creating a new experiment.\n"
     ]
    },
    {
     "data": {
      "text/plain": [
       "<Experiment: artifact_location='s3://youtube-comments-sentiment/393578737657626951', creation_time=1728818340709, experiment_id='393578737657626951', last_update_time=1728818340709, lifecycle_stage='active', name='Exp 5 - ML Algos with HP Tuning', tags={}>"
      ]
     },
     "execution_count": 2,
     "metadata": {},
     "output_type": "execute_result"
    }
   ],
   "source": [
    "# Set or create an experiment\n",
    "mlflow.set_experiment(\"Exp 5 - ML Algos with HP Tuning\")"
   ]
  },
  {
   "cell_type": "code",
   "execution_count": 4,
   "metadata": {},
   "outputs": [],
   "source": [
    "import optuna\n",
    "import mlflow\n",
    "import mlflow.sklearn\n",
    "from sklearn.model_selection import train_test_split\n",
    "from sklearn.metrics import accuracy_score, classification_report\n",
    "from sklearn.feature_extraction.text import TfidfVectorizer\n",
    "from sklearn.linear_model import LogisticRegression\n",
    "from sklearn.svm import SVC\n",
    "from xgboost import XGBClassifier\n",
    "from lightgbm import LGBMClassifier\n",
    "from sklearn.neighbors import KNeighborsClassifier\n",
    "from sklearn.naive_bayes import MultinomialNB\n",
    "from sklearn.ensemble import RandomForestClassifier\n",
    "from imblearn.over_sampling import SMOTE\n",
    "import matplotlib.pyplot as plt\n",
    "import seaborn as sns\n",
    "import pandas as pd"
   ]
  },
  {
   "cell_type": "code",
   "execution_count": 5,
   "metadata": {},
   "outputs": [
    {
     "data": {
      "text/plain": [
       "(36662, 2)"
      ]
     },
     "execution_count": 5,
     "metadata": {},
     "output_type": "execute_result"
    }
   ],
   "source": [
    "df = pd.read_csv('Preprocessed_Reddit.csv').dropna()\n",
    "df.shape"
   ]
  },
  {
   "cell_type": "code",
   "execution_count": 6,
   "metadata": {},
   "outputs": [
    {
     "name": "stderr",
     "output_type": "stream",
     "text": [
      "[I 2024-10-13 16:51:16,256] A new study created in memory with name: no-name-388ac8bf-a450-4d1c-bb11-89ffda3c375a\n",
      "[I 2024-10-13 16:51:57,119] Trial 0 finished with value: 0.5963855421686747 and parameters: {'n_estimators': 201, 'learning_rate': 0.005719322462928717, 'max_depth': 3}. Best is trial 0 with value: 0.5963855421686747.\n",
      "[I 2024-10-13 16:55:32,613] Trial 1 finished with value: 0.611287254280279 and parameters: {'n_estimators': 225, 'learning_rate': 0.0010382422320034512, 'max_depth': 8}. Best is trial 1 with value: 0.611287254280279.\n",
      "[I 2024-10-13 16:56:26,549] Trial 2 finished with value: 0.689283449587825 and parameters: {'n_estimators': 50, 'learning_rate': 0.047092363083725663, 'max_depth': 8}. Best is trial 2 with value: 0.689283449587825.\n",
      "[I 2024-10-13 16:57:48,469] Trial 3 finished with value: 0.6432043965335025 and parameters: {'n_estimators': 64, 'learning_rate': 0.009571183938776175, 'max_depth': 9}. Best is trial 2 with value: 0.689283449587825.\n",
      "[I 2024-10-13 17:00:44,343] Trial 4 finished with value: 0.5904671316846333 and parameters: {'n_estimators': 228, 'learning_rate': 0.0003982579659432828, 'max_depth': 7}. Best is trial 2 with value: 0.689283449587825.\n",
      "[I 2024-10-13 17:02:01,651] Trial 5 finished with value: 0.5765165926865357 and parameters: {'n_estimators': 129, 'learning_rate': 0.00011109458228611688, 'max_depth': 6}. Best is trial 2 with value: 0.689283449587825.\n",
      "[I 2024-10-13 17:05:09,528] Trial 6 finished with value: 0.5903614457831325 and parameters: {'n_estimators': 245, 'learning_rate': 0.000368428303950443, 'max_depth': 7}. Best is trial 2 with value: 0.689283449587825.\n",
      "[I 2024-10-13 17:05:44,909] Trial 7 finished with value: 0.6768125132107377 and parameters: {'n_estimators': 115, 'learning_rate': 0.03586770298461105, 'max_depth': 4}. Best is trial 2 with value: 0.689283449587825.\n",
      "[I 2024-10-13 17:05:58,445] Trial 8 finished with value: 0.6095962798562672 and parameters: {'n_estimators': 70, 'learning_rate': 0.026528362614039215, 'max_depth': 3}. Best is trial 2 with value: 0.689283449587825.\n",
      "[I 2024-10-13 17:10:00,139] Trial 9 finished with value: 0.6232297611498626 and parameters: {'n_estimators': 237, 'learning_rate': 0.0022619187470243433, 'max_depth': 8}. Best is trial 2 with value: 0.689283449587825.\n",
      "[I 2024-10-13 17:12:48,181] Trial 10 finished with value: 0.794440921581061 and parameters: {'n_estimators': 153, 'learning_rate': 0.07449922655793183, 'max_depth': 10}. Best is trial 10 with value: 0.794440921581061.\n",
      "[I 2024-10-13 17:15:11,065] Trial 11 finished with value: 0.8010991333756077 and parameters: {'n_estimators': 155, 'learning_rate': 0.09933800188402125, 'max_depth': 10}. Best is trial 11 with value: 0.8010991333756077.\n",
      "[I 2024-10-13 17:17:46,013] Trial 12 finished with value: 0.798139928133587 and parameters: {'n_estimators': 159, 'learning_rate': 0.07952076637795297, 'max_depth': 10}. Best is trial 11 with value: 0.8010991333756077.\n",
      "[I 2024-10-13 17:24:26,317] Trial 13 finished with value: 0.7386387655886705 and parameters: {'n_estimators': 290, 'learning_rate': 0.014834428942611697, 'max_depth': 10}. Best is trial 11 with value: 0.8010991333756077.\n",
      "[I 2024-10-13 17:27:39,289] Trial 14 finished with value: 0.803846966814627 and parameters: {'n_estimators': 180, 'learning_rate': 0.09262664209549648, 'max_depth': 10}. Best is trial 14 with value: 0.803846966814627.\n",
      "[I 2024-10-13 17:28:36,216] Trial 15 finished with value: 0.7819699852039738 and parameters: {'n_estimators': 188, 'learning_rate': 0.09868987798821091, 'max_depth': 5}. Best is trial 14 with value: 0.803846966814627.\n",
      "[I 2024-10-13 17:30:46,812] Trial 16 finished with value: 0.6867469879518072 and parameters: {'n_estimators': 111, 'learning_rate': 0.017762407401301653, 'max_depth': 9}. Best is trial 14 with value: 0.803846966814627.\n",
      "[I 2024-10-13 17:33:29,730] Trial 17 finished with value: 0.6366518706404566 and parameters: {'n_estimators': 143, 'learning_rate': 0.003665798850403145, 'max_depth': 9}. Best is trial 14 with value: 0.803846966814627.\n",
      "[I 2024-10-13 17:34:18,476] Trial 18 finished with value: 0.6880152187698161 and parameters: {'n_estimators': 95, 'learning_rate': 0.0356284924938829, 'max_depth': 6}. Best is trial 14 with value: 0.803846966814627.\n",
      "[I 2024-10-13 17:38:52,306] Trial 19 finished with value: 0.679560346649757 and parameters: {'n_estimators': 179, 'learning_rate': 0.007862131856255783, 'max_depth': 10}. Best is trial 14 with value: 0.803846966814627.\n",
      "[I 2024-10-13 17:44:46,857] Trial 20 finished with value: 0.6300993447474107 and parameters: {'n_estimators': 291, 'learning_rate': 0.0013521876467507742, 'max_depth': 9}. Best is trial 14 with value: 0.803846966814627.\n",
      "[I 2024-10-13 17:47:31,908] Trial 21 finished with value: 0.7998309025575988 and parameters: {'n_estimators': 155, 'learning_rate': 0.09501378665092151, 'max_depth': 10}. Best is trial 14 with value: 0.803846966814627.\n",
      "[I 2024-10-13 17:51:19,793] Trial 22 finished with value: 0.7948636651870641 and parameters: {'n_estimators': 204, 'learning_rate': 0.06076606876240458, 'max_depth': 10}. Best is trial 14 with value: 0.803846966814627.\n",
      "[I 2024-10-13 17:54:48,165] Trial 23 finished with value: 0.7149651236525048 and parameters: {'n_estimators': 166, 'learning_rate': 0.019146545978220672, 'max_depth': 9}. Best is trial 14 with value: 0.803846966814627.\n",
      "[I 2024-10-13 17:57:07,917] Trial 24 finished with value: 0.7423377721411963 and parameters: {'n_estimators': 139, 'learning_rate': 0.03978626375645745, 'max_depth': 8}. Best is trial 14 with value: 0.803846966814627.\n",
      "[I 2024-10-13 18:00:20,411] Trial 25 finished with value: 0.8017332487846122 and parameters: {'n_estimators': 186, 'learning_rate': 0.08688447195225509, 'max_depth': 10}. Best is trial 14 with value: 0.803846966814627.\n",
      "[I 2024-10-13 18:04:58,439] Trial 26 finished with value: 0.7613612344113295 and parameters: {'n_estimators': 258, 'learning_rate': 0.02694365779021767, 'max_depth': 9}. Best is trial 14 with value: 0.803846966814627.\n",
      "[I 2024-10-13 18:08:34,462] Trial 27 finished with value: 0.7959205242020715 and parameters: {'n_estimators': 210, 'learning_rate': 0.054598695703651605, 'max_depth': 10}. Best is trial 14 with value: 0.803846966814627.\n",
      "[I 2024-10-13 18:10:47,218] Trial 28 finished with value: 0.6768125132107377 and parameters: {'n_estimators': 181, 'learning_rate': 0.01252600972917675, 'max_depth': 7}. Best is trial 14 with value: 0.803846966814627.\n",
      "[I 2024-10-13 18:14:06,975] Trial 29 finished with value: 0.6456351722680195 and parameters: {'n_estimators': 196, 'learning_rate': 0.004165531393959206, 'max_depth': 8}. Best is trial 14 with value: 0.803846966814627.\n",
      "2024/10/13 18:17:40 WARNING mlflow.models.model: Model logged without a signature and input example. Please set `input_example` parameter when logging the model to auto infer the model signature.\n",
      "2024/10/13 18:18:10 INFO mlflow.tracking._tracking_service.client: 🏃 View run XGBoost_SMOTE_TFIDF_Trigrams at: http://ec2-65-2-83-175.ap-south-1.compute.amazonaws.com:5000/#/experiments/393578737657626951/runs/04448aea318c4cd4bc6510f2a71c41b3.\n",
      "2024/10/13 18:18:10 INFO mlflow.tracking._tracking_service.client: 🧪 View experiment at: http://ec2-65-2-83-175.ap-south-1.compute.amazonaws.com:5000/#/experiments/393578737657626951.\n"
     ]
    }
   ],
   "source": [
    "# Step 1: Remap the class labels from [-1, 0, 1] to [2, 0, 1]\n",
    "df['category'] = df['category'].map({-1: 2, 0: 0, 1: 1})\n",
    "\n",
    "# Step 2: Remove rows where the target labels (category) are NaN\n",
    "df = df.dropna(subset=['category'])\n",
    "\n",
    "# Step 3: TF-IDF vectorizer setup\n",
    "ngram_range = (1, 3)  # Trigram\n",
    "max_features = 1000  # Set max_features to 1000\n",
    "vectorizer = TfidfVectorizer(ngram_range=ngram_range, max_features=max_features)\n",
    "X = vectorizer.fit_transform(df['clean_comment'])\n",
    "y = df['category']\n",
    "\n",
    "# Step 4: Apply SMOTE to handle class imbalance\n",
    "smote = SMOTE(random_state=42)\n",
    "X_resampled, y_resampled = smote.fit_resample(X, y)\n",
    "\n",
    "# Step 5: Train-test split\n",
    "X_train, X_test, y_train, y_test = train_test_split(X_resampled, y_resampled, test_size=0.2, random_state=42, stratify=y_resampled)\n",
    "\n",
    "# Function to log results in MLflow\n",
    "def log_mlflow(model_name, model, X_train, X_test, y_train, y_test):\n",
    "    with mlflow.start_run():\n",
    "        # Log model type\n",
    "        mlflow.set_tag(\"mlflow.runName\", f\"{model_name}_SMOTE_TFIDF_Trigrams\")\n",
    "        mlflow.set_tag(\"experiment_type\", \"algorithm_comparison\")\n",
    "\n",
    "        # Log algorithm name as a parameter\n",
    "        mlflow.log_param(\"algo_name\", model_name)\n",
    "\n",
    "        # Train model\n",
    "        model.fit(X_train, y_train)\n",
    "        y_pred = model.predict(X_test)\n",
    "\n",
    "        # Log accuracy\n",
    "        accuracy = accuracy_score(y_test, y_pred)\n",
    "        mlflow.log_metric(\"accuracy\", accuracy)\n",
    "\n",
    "        # Log classification report\n",
    "        classification_rep = classification_report(y_test, y_pred, output_dict=True)\n",
    "        for label, metrics in classification_rep.items():\n",
    "            if isinstance(metrics, dict):\n",
    "                for metric, value in metrics.items():\n",
    "                    mlflow.log_metric(f\"{label}_{metric}\", value)\n",
    "\n",
    "        # Log the model\n",
    "        mlflow.sklearn.log_model(model, f\"{model_name}_model\")\n",
    "\n",
    "\n",
    "# Step 6: Optuna objective function for XGBoost\n",
    "def objective_xgboost(trial):\n",
    "    n_estimators = trial.suggest_int('n_estimators', 50, 300)\n",
    "    learning_rate = trial.suggest_float('learning_rate', 1e-4, 1e-1, log=True)\n",
    "    max_depth = trial.suggest_int('max_depth', 3, 10)\n",
    "\n",
    "    model = XGBClassifier(n_estimators=n_estimators, learning_rate=learning_rate, max_depth=max_depth, random_state=42)\n",
    "    return accuracy_score(y_test, model.fit(X_train, y_train).predict(X_test))\n",
    "\n",
    "\n",
    "# Step 7: Run Optuna for XGBoost, log the best model only\n",
    "def run_optuna_experiment():\n",
    "    study = optuna.create_study(direction=\"maximize\")\n",
    "    study.optimize(objective_xgboost, n_trials=30)\n",
    "\n",
    "    # Get the best parameters and log only the best model\n",
    "    best_params = study.best_params\n",
    "    best_model = XGBClassifier(n_estimators=best_params['n_estimators'], learning_rate=best_params['learning_rate'], max_depth=best_params['max_depth'], random_state=42)\n",
    "\n",
    "    # Log the best model with MLflow, passing the algo_name as \"xgboost\"\n",
    "    log_mlflow(\"XGBoost\", best_model, X_train, X_test, y_train, y_test)\n",
    "\n",
    "# Run the experiment for XGBoost\n",
    "run_optuna_experiment()\n"
   ]
  },
  {
   "cell_type": "code",
   "execution_count": null,
   "metadata": {},
   "outputs": [],
   "source": []
  }
 ],
 "metadata": {
  "kernelspec": {
   "display_name": "Python 3",
   "language": "python",
   "name": "python3"
  },
  "language_info": {
   "codemirror_mode": {
    "name": "ipython",
    "version": 3
   },
   "file_extension": ".py",
   "mimetype": "text/x-python",
   "name": "python",
   "nbconvert_exporter": "python",
   "pygments_lexer": "ipython3",
   "version": "3.12.5"
  }
 },
 "nbformat": 4,
 "nbformat_minor": 2
}
