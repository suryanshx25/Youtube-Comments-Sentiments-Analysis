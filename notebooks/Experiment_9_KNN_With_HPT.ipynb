{
 "cells": [
  {
   "cell_type": "code",
   "execution_count": 1,
   "metadata": {},
   "outputs": [],
   "source": [
    "import mlflow\n",
    "# Step 2: Set up the MLflow tracking server\n",
    "mlflow.set_tracking_uri(\"http://ec2-65-2-83-175.ap-south-1.compute.amazonaws.com:5000/\")"
   ]
  },
  {
   "cell_type": "code",
   "execution_count": 2,
   "metadata": {},
   "outputs": [
    {
     "name": "stderr",
     "output_type": "stream",
     "text": [
      "2024/10/14 16:53:40 INFO mlflow.tracking.fluent: Experiment with name 'Exp - 9 ML Algos with HP Tuning' does not exist. Creating a new experiment.\n"
     ]
    },
    {
     "data": {
      "text/plain": [
       "<Experiment: artifact_location='s3://youtube-comments-sentiment/336310026076603578', creation_time=1728905039812, experiment_id='336310026076603578', last_update_time=1728905039812, lifecycle_stage='active', name='Exp - 9 ML Algos with HP Tuning', tags={}>"
      ]
     },
     "execution_count": 2,
     "metadata": {},
     "output_type": "execute_result"
    }
   ],
   "source": [
    "# Set or create an experiment\n",
    "mlflow.set_experiment(\"Exp - 9 ML Algos with HP Tuning\")"
   ]
  },
  {
   "cell_type": "code",
   "execution_count": 3,
   "metadata": {},
   "outputs": [],
   "source": [
    "import pandas as pd\n",
    "from sklearn.feature_extraction.text import TfidfVectorizer\n",
    "from sklearn.model_selection import train_test_split\n",
    "from sklearn.neighbors import KNeighborsClassifier\n",
    "from sklearn.metrics import accuracy_score, classification_report\n",
    "from imblearn.over_sampling import SMOTE\n",
    "import mlflow\n",
    "import mlflow.sklearn\n",
    "import optuna"
   ]
  },
  {
   "cell_type": "code",
   "execution_count": 4,
   "metadata": {},
   "outputs": [
    {
     "data": {
      "text/plain": [
       "(36662, 2)"
      ]
     },
     "execution_count": 4,
     "metadata": {},
     "output_type": "execute_result"
    }
   ],
   "source": [
    "df = pd.read_csv('Preprocessed_Reddit.csv').dropna()\n",
    "df.shape"
   ]
  },
  {
   "cell_type": "code",
   "execution_count": 5,
   "metadata": {},
   "outputs": [
    {
     "name": "stderr",
     "output_type": "stream",
     "text": [
      "[I 2024-10-14 16:54:49,345] A new study created in memory with name: no-name-08bad4bc-6430-4e3d-9516-86510644c6b0\n",
      "[I 2024-10-14 16:54:58,360] Trial 0 finished with value: 0.3890298034242232 and parameters: {'n_neighbors': 14, 'p': 1}. Best is trial 0 with value: 0.3890298034242232.\n",
      "[I 2024-10-14 16:55:06,688] Trial 1 finished with value: 0.38268864933417884 and parameters: {'n_neighbors': 21, 'p': 1}. Best is trial 0 with value: 0.3890298034242232.\n",
      "[I 2024-10-14 16:55:23,536] Trial 2 finished with value: 0.5468188543648277 and parameters: {'n_neighbors': 18, 'p': 2}. Best is trial 2 with value: 0.5468188543648277.\n",
      "[I 2024-10-14 16:55:31,343] Trial 3 finished with value: 0.38776157260621436 and parameters: {'n_neighbors': 15, 'p': 1}. Best is trial 2 with value: 0.5468188543648277.\n",
      "[I 2024-10-14 16:55:39,482] Trial 4 finished with value: 0.3760304375396322 and parameters: {'n_neighbors': 26, 'p': 1}. Best is trial 2 with value: 0.5468188543648277.\n",
      "[I 2024-10-14 16:55:47,306] Trial 5 finished with value: 0.3843796237581907 and parameters: {'n_neighbors': 19, 'p': 1}. Best is trial 2 with value: 0.5468188543648277.\n",
      "[I 2024-10-14 16:56:03,529] Trial 6 finished with value: 0.567850348763475 and parameters: {'n_neighbors': 10, 'p': 2}. Best is trial 6 with value: 0.567850348763475.\n",
      "[I 2024-10-14 16:56:20,195] Trial 7 finished with value: 0.5370957514267597 and parameters: {'n_neighbors': 23, 'p': 2}. Best is trial 6 with value: 0.567850348763475.\n",
      "[I 2024-10-14 16:56:28,065] Trial 8 finished with value: 0.37285986049461 and parameters: {'n_neighbors': 30, 'p': 1}. Best is trial 6 with value: 0.567850348763475.\n",
      "[I 2024-10-14 16:56:35,901] Trial 9 finished with value: 0.38268864933417884 and parameters: {'n_neighbors': 21, 'p': 1}. Best is trial 6 with value: 0.567850348763475.\n",
      "[I 2024-10-14 16:56:50,500] Trial 10 finished with value: 0.5739801310505178 and parameters: {'n_neighbors': 6, 'p': 2}. Best is trial 10 with value: 0.5739801310505178.\n",
      "[I 2024-10-14 16:57:04,999] Trial 11 finished with value: 0.5764109067850349 and parameters: {'n_neighbors': 5, 'p': 2}. Best is trial 11 with value: 0.5764109067850349.\n",
      "[I 2024-10-14 16:57:15,523] Trial 12 finished with value: 0.5878249841471148 and parameters: {'n_neighbors': 3, 'p': 2}. Best is trial 12 with value: 0.5878249841471148.\n",
      "[I 2024-10-14 16:57:25,991] Trial 13 finished with value: 0.5878249841471148 and parameters: {'n_neighbors': 3, 'p': 2}. Best is trial 12 with value: 0.5878249841471148.\n",
      "[I 2024-10-14 16:57:36,327] Trial 14 finished with value: 0.5878249841471148 and parameters: {'n_neighbors': 3, 'p': 2}. Best is trial 12 with value: 0.5878249841471148.\n",
      "[I 2024-10-14 16:57:50,850] Trial 15 finished with value: 0.572711900232509 and parameters: {'n_neighbors': 9, 'p': 2}. Best is trial 12 with value: 0.5878249841471148.\n",
      "[I 2024-10-14 16:58:05,625] Trial 16 finished with value: 0.5633058549989431 and parameters: {'n_neighbors': 11, 'p': 2}. Best is trial 12 with value: 0.5878249841471148.\n",
      "[I 2024-10-14 16:58:16,359] Trial 17 finished with value: 0.5878249841471148 and parameters: {'n_neighbors': 3, 'p': 2}. Best is trial 12 with value: 0.5878249841471148.\n",
      "[I 2024-10-14 16:58:31,106] Trial 18 finished with value: 0.5756711054745297 and parameters: {'n_neighbors': 7, 'p': 2}. Best is trial 12 with value: 0.5878249841471148.\n",
      "[I 2024-10-14 16:58:45,656] Trial 19 finished with value: 0.559712534347918 and parameters: {'n_neighbors': 13, 'p': 2}. Best is trial 12 with value: 0.5878249841471148.\n",
      "[I 2024-10-14 16:59:00,321] Trial 20 finished with value: 0.5734517015430142 and parameters: {'n_neighbors': 8, 'p': 2}. Best is trial 12 with value: 0.5878249841471148.\n",
      "[I 2024-10-14 16:59:10,829] Trial 21 finished with value: 0.5878249841471148 and parameters: {'n_neighbors': 3, 'p': 2}. Best is trial 12 with value: 0.5878249841471148.\n",
      "[I 2024-10-14 16:59:21,038] Trial 22 finished with value: 0.5878249841471148 and parameters: {'n_neighbors': 3, 'p': 2}. Best is trial 12 with value: 0.5878249841471148.\n",
      "[I 2024-10-14 16:59:35,407] Trial 23 finished with value: 0.5764109067850349 and parameters: {'n_neighbors': 5, 'p': 2}. Best is trial 12 with value: 0.5878249841471148.\n",
      "[I 2024-10-14 16:59:51,129] Trial 24 finished with value: 0.5633058549989431 and parameters: {'n_neighbors': 11, 'p': 2}. Best is trial 12 with value: 0.5878249841471148.\n",
      "[I 2024-10-14 17:00:10,282] Trial 25 finished with value: 0.5739801310505178 and parameters: {'n_neighbors': 6, 'p': 2}. Best is trial 12 with value: 0.5878249841471148.\n",
      "[I 2024-10-14 17:00:21,134] Trial 26 finished with value: 0.5878249841471148 and parameters: {'n_neighbors': 3, 'p': 2}. Best is trial 12 with value: 0.5878249841471148.\n",
      "[I 2024-10-14 17:00:35,437] Trial 27 finished with value: 0.5734517015430142 and parameters: {'n_neighbors': 8, 'p': 2}. Best is trial 12 with value: 0.5878249841471148.\n",
      "[I 2024-10-14 17:00:50,724] Trial 28 finished with value: 0.5764109067850349 and parameters: {'n_neighbors': 5, 'p': 2}. Best is trial 12 with value: 0.5878249841471148.\n",
      "[I 2024-10-14 17:01:05,519] Trial 29 finished with value: 0.5614035087719298 and parameters: {'n_neighbors': 12, 'p': 2}. Best is trial 12 with value: 0.5878249841471148.\n",
      "2024/10/14 17:01:38 WARNING mlflow.models.model: Model logged without a signature and input example. Please set `input_example` parameter when logging the model to auto infer the model signature.\n",
      "2024/10/14 17:01:45 INFO mlflow.tracking._tracking_service.client: 🏃 View run KNN_SMOTE_TFIDF_Trigrams at: http://ec2-65-2-83-175.ap-south-1.compute.amazonaws.com:5000/#/experiments/336310026076603578/runs/f78ee0b9912948b3aaceaacb19950baf.\n",
      "2024/10/14 17:01:45 INFO mlflow.tracking._tracking_service.client: 🧪 View experiment at: http://ec2-65-2-83-175.ap-south-1.compute.amazonaws.com:5000/#/experiments/336310026076603578.\n"
     ]
    }
   ],
   "source": [
    "# Step 1: (Optional) Remapping - skipped since not strictly needed for KNN\n",
    "\n",
    "# Step 2: Remove rows where the target labels (category) are NaN\n",
    "df = df.dropna(subset=['category'])\n",
    "\n",
    "# Step 3: TF-IDF vectorizer setup\n",
    "ngram_range = (1, 3)  # Trigram\n",
    "max_features = 1000  # Set max_features to 1000\n",
    "vectorizer = TfidfVectorizer(ngram_range=ngram_range, max_features=max_features)\n",
    "X = vectorizer.fit_transform(df['clean_comment'])\n",
    "y = df['category']\n",
    "\n",
    "# Step 4: Apply SMOTE to handle class imbalance\n",
    "smote = SMOTE(random_state=42)\n",
    "X_resampled, y_resampled = smote.fit_resample(X, y)\n",
    "\n",
    "# Step 5: Train-test split\n",
    "X_train, X_test, y_train, y_test = train_test_split(X_resampled, y_resampled, test_size=0.2, random_state=42, stratify=y_resampled)\n",
    "\n",
    "# Function to log results in MLflow\n",
    "def log_mlflow(model_name, model, X_train, X_test, y_train, y_test):\n",
    "    with mlflow.start_run():\n",
    "        # Log model type\n",
    "        mlflow.set_tag(\"mlflow.runName\", f\"{model_name}_SMOTE_TFIDF_Trigrams\")\n",
    "        mlflow.set_tag(\"experiment_type\", \"algorithm_comparison\")\n",
    "\n",
    "        # Log algorithm name as a parameter\n",
    "        mlflow.log_param(\"algo_name\", model_name)\n",
    "\n",
    "        # Train model\n",
    "        model.fit(X_train, y_train)\n",
    "        y_pred = model.predict(X_test)\n",
    "\n",
    "        # Log accuracy\n",
    "        accuracy = accuracy_score(y_test, y_pred)\n",
    "        mlflow.log_metric(\"accuracy\", accuracy)\n",
    "\n",
    "        # Log classification report\n",
    "        classification_rep = classification_report(y_test, y_pred, output_dict=True)\n",
    "        for label, metrics in classification_rep.items():\n",
    "            if isinstance(metrics, dict):\n",
    "                for metric, value in metrics.items():\n",
    "                    mlflow.log_metric(f\"{label}_{metric}\", value)\n",
    "\n",
    "        # Log the model\n",
    "        mlflow.sklearn.log_model(model, f\"{model_name}_model\")\n",
    "\n",
    "\n",
    "# Step 6: Optuna objective function for KNN\n",
    "def objective_knn(trial):\n",
    "    n_neighbors = trial.suggest_int('n_neighbors', 3, 30)  # Tuning the number of neighbors\n",
    "    p = trial.suggest_categorical('p', [1, 2])  # Tuning the distance metric (1 for Manhattan, 2 for Euclidean)\n",
    "\n",
    "    # KNeighborsClassifier setup\n",
    "    model = KNeighborsClassifier(n_neighbors=n_neighbors, p=p)\n",
    "    return accuracy_score(y_test, model.fit(X_train, y_train).predict(X_test))\n",
    "\n",
    "\n",
    "# Step 7: Run Optuna for KNN, log the best model only\n",
    "def run_optuna_experiment():\n",
    "    study = optuna.create_study(direction=\"maximize\")\n",
    "    study.optimize(objective_knn, n_trials=30)\n",
    "\n",
    "    # Get the best parameters and log only the best model\n",
    "    best_params = study.best_params\n",
    "    best_model = KNeighborsClassifier(n_neighbors=best_params['n_neighbors'], p=best_params['p'])\n",
    "\n",
    "    # Log the best model with MLflow, passing the algo_name as \"KNN\"\n",
    "    log_mlflow(\"KNN\", best_model, X_train, X_test, y_train, y_test)\n",
    "\n",
    "# Run the experiment for KNN\n",
    "run_optuna_experiment()"
   ]
  },
  {
   "cell_type": "code",
   "execution_count": null,
   "metadata": {},
   "outputs": [],
   "source": []
  }
 ],
 "metadata": {
  "kernelspec": {
   "display_name": "Python 3",
   "language": "python",
   "name": "python3"
  },
  "language_info": {
   "codemirror_mode": {
    "name": "ipython",
    "version": 3
   },
   "file_extension": ".py",
   "mimetype": "text/x-python",
   "name": "python",
   "nbconvert_exporter": "python",
   "pygments_lexer": "ipython3",
   "version": "3.12.5"
  }
 },
 "nbformat": 4,
 "nbformat_minor": 2
}
