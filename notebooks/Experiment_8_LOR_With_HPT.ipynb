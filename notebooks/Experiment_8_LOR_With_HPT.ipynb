{
 "cells": [
  {
   "cell_type": "code",
   "execution_count": 1,
   "metadata": {},
   "outputs": [],
   "source": [
    "import mlflow\n",
    "# Step 2: Set up the MLflow tracking server\n",
    "mlflow.set_tracking_uri(\"http://ec2-65-2-83-175.ap-south-1.compute.amazonaws.com:5000/\")"
   ]
  },
  {
   "cell_type": "code",
   "execution_count": 2,
   "metadata": {},
   "outputs": [
    {
     "name": "stderr",
     "output_type": "stream",
     "text": [
      "2024/10/14 16:49:17 INFO mlflow.tracking.fluent: Experiment with name 'Exp - 8 ML Algos with HP Tuning' does not exist. Creating a new experiment.\n"
     ]
    },
    {
     "data": {
      "text/plain": [
       "<Experiment: artifact_location='s3://youtube-comments-sentiment/518611293050755908', creation_time=1728904776853, experiment_id='518611293050755908', last_update_time=1728904776853, lifecycle_stage='active', name='Exp - 8 ML Algos with HP Tuning', tags={}>"
      ]
     },
     "execution_count": 2,
     "metadata": {},
     "output_type": "execute_result"
    }
   ],
   "source": [
    "# Set or create an experiment\n",
    "mlflow.set_experiment(\"Exp - 8 ML Algos with HP Tuning\")"
   ]
  },
  {
   "cell_type": "code",
   "execution_count": 3,
   "metadata": {},
   "outputs": [],
   "source": [
    "import pandas as pd\n",
    "from sklearn.feature_extraction.text import TfidfVectorizer\n",
    "from sklearn.model_selection import train_test_split\n",
    "from sklearn.linear_model import LogisticRegression\n",
    "from sklearn.metrics import accuracy_score, classification_report\n",
    "from imblearn.over_sampling import SMOTE\n",
    "import mlflow\n",
    "import mlflow.sklearn\n",
    "import optuna"
   ]
  },
  {
   "cell_type": "code",
   "execution_count": 4,
   "metadata": {},
   "outputs": [
    {
     "data": {
      "text/plain": [
       "(36662, 2)"
      ]
     },
     "execution_count": 4,
     "metadata": {},
     "output_type": "execute_result"
    }
   ],
   "source": [
    "df = pd.read_csv('Preprocessed_Reddit.csv').dropna()\n",
    "df.shape"
   ]
  },
  {
   "cell_type": "code",
   "execution_count": 5,
   "metadata": {},
   "outputs": [
    {
     "name": "stderr",
     "output_type": "stream",
     "text": [
      "[I 2024-10-14 16:50:30,347] A new study created in memory with name: no-name-2486b560-0bc7-4cb3-a3b7-d02a953da8ed\n",
      "[I 2024-10-14 16:50:31,073] Trial 0 finished with value: 0.7795392094694568 and parameters: {'C': 3.891992735931853, 'penalty': 'l1'}. Best is trial 0 with value: 0.7795392094694568.\n",
      "[I 2024-10-14 16:50:31,557] Trial 1 finished with value: 0.7791164658634538 and parameters: {'C': 1.2059571408825158, 'penalty': 'l1'}. Best is trial 0 with value: 0.7795392094694568.\n",
      "[I 2024-10-14 16:50:31,999] Trial 2 finished with value: 0.6829422954977806 and parameters: {'C': 0.014967829907966045, 'penalty': 'l2'}. Best is trial 0 with value: 0.7795392094694568.\n",
      "[I 2024-10-14 16:50:32,137] Trial 3 finished with value: 0.3333333333333333 and parameters: {'C': 0.00018339805967819992, 'penalty': 'l1'}. Best is trial 0 with value: 0.7795392094694568.\n",
      "[I 2024-10-14 16:50:33,093] Trial 4 finished with value: 0.7641090678503487 and parameters: {'C': 0.6895992598007783, 'penalty': 'l2'}. Best is trial 0 with value: 0.7795392094694568.\n",
      "[I 2024-10-14 16:50:34,722] Trial 5 finished with value: 0.7736207989854154 and parameters: {'C': 5.777513655354056, 'penalty': 'l2'}. Best is trial 0 with value: 0.7795392094694568.\n",
      "[I 2024-10-14 16:50:36,329] Trial 6 finished with value: 0.7210949059395476 and parameters: {'C': 0.06576938081470218, 'penalty': 'l2'}. Best is trial 0 with value: 0.7795392094694568.\n",
      "[I 2024-10-14 16:50:36,710] Trial 7 finished with value: 0.39759036144578314 and parameters: {'C': 0.005733097661903451, 'penalty': 'l1'}. Best is trial 0 with value: 0.7795392094694568.\n",
      "[I 2024-10-14 16:50:37,050] Trial 8 finished with value: 0.6429930247305009 and parameters: {'C': 0.03064794928105415, 'penalty': 'l1'}. Best is trial 0 with value: 0.7795392094694568.\n",
      "[I 2024-10-14 16:50:37,255] Trial 9 finished with value: 0.5688015218769816 and parameters: {'C': 0.013943037049154965, 'penalty': 'l1'}. Best is trial 0 with value: 0.7795392094694568.\n",
      "[I 2024-10-14 16:50:37,929] Trial 10 finished with value: 0.7808074402874656 and parameters: {'C': 9.323948308710163, 'penalty': 'l1'}. Best is trial 10 with value: 0.7808074402874656.\n",
      "[I 2024-10-14 16:50:38,641] Trial 11 finished with value: 0.779433523567956 and parameters: {'C': 4.402331251476518, 'penalty': 'l1'}. Best is trial 10 with value: 0.7808074402874656.\n",
      "[I 2024-10-14 16:50:39,069] Trial 12 finished with value: 0.7756288311139294 and parameters: {'C': 0.3670768556923158, 'penalty': 'l1'}. Best is trial 10 with value: 0.7808074402874656.\n",
      "[I 2024-10-14 16:50:39,650] Trial 13 finished with value: 0.7808074402874656 and parameters: {'C': 6.654188876715927, 'penalty': 'l1'}. Best is trial 10 with value: 0.7808074402874656.\n",
      "[I 2024-10-14 16:50:39,967] Trial 14 finished with value: 0.7556541957302896 and parameters: {'C': 0.14979282156985474, 'penalty': 'l1'}. Best is trial 10 with value: 0.7808074402874656.\n",
      "[I 2024-10-14 16:50:40,526] Trial 15 finished with value: 0.7808074402874656 and parameters: {'C': 8.691021498931535, 'penalty': 'l1'}. Best is trial 10 with value: 0.7808074402874656.\n",
      "[I 2024-10-14 16:50:40,667] Trial 16 finished with value: 0.3333333333333333 and parameters: {'C': 0.0016697876093953589, 'penalty': 'l1'}. Best is trial 10 with value: 0.7808074402874656.\n",
      "[I 2024-10-14 16:50:41,207] Trial 17 finished with value: 0.7789050940604524 and parameters: {'C': 1.3523166567154028, 'penalty': 'l1'}. Best is trial 10 with value: 0.7808074402874656.\n",
      "[I 2024-10-14 16:50:41,975] Trial 18 finished with value: 0.7540689072077785 and parameters: {'C': 0.31649833845129427, 'penalty': 'l2'}. Best is trial 10 with value: 0.7808074402874656.\n",
      "[I 2024-10-14 16:50:42,090] Trial 19 finished with value: 0.3333333333333333 and parameters: {'C': 0.0001690318141165588, 'penalty': 'l1'}. Best is trial 10 with value: 0.7808074402874656.\n",
      "[I 2024-10-14 16:50:42,599] Trial 20 finished with value: 0.7795392094694568 and parameters: {'C': 2.2472184225846625, 'penalty': 'l1'}. Best is trial 10 with value: 0.7808074402874656.\n",
      "[I 2024-10-14 16:50:43,228] Trial 21 finished with value: 0.7807017543859649 and parameters: {'C': 7.578782497882627, 'penalty': 'l1'}. Best is trial 10 with value: 0.7808074402874656.\n",
      "[I 2024-10-14 16:50:43,791] Trial 22 finished with value: 0.7808074402874656 and parameters: {'C': 9.88412388286597, 'penalty': 'l1'}. Best is trial 10 with value: 0.7808074402874656.\n",
      "[I 2024-10-14 16:50:44,307] Trial 23 finished with value: 0.7789050940604524 and parameters: {'C': 2.0384999137297197, 'penalty': 'l1'}. Best is trial 10 with value: 0.7808074402874656.\n",
      "[I 2024-10-14 16:50:44,748] Trial 24 finished with value: 0.779856267173959 and parameters: {'C': 0.7352574267889593, 'penalty': 'l1'}. Best is trial 10 with value: 0.7808074402874656.\n",
      "[I 2024-10-14 16:50:45,261] Trial 25 finished with value: 0.779433523567956 and parameters: {'C': 3.035519973952306, 'penalty': 'l1'}. Best is trial 10 with value: 0.7808074402874656.\n",
      "[I 2024-10-14 16:50:46,725] Trial 26 finished with value: 0.7743606002959206 and parameters: {'C': 7.960824881394009, 'penalty': 'l2'}. Best is trial 10 with value: 0.7808074402874656.\n",
      "[I 2024-10-14 16:50:47,084] Trial 27 finished with value: 0.7553371380257874 and parameters: {'C': 0.1491458928265246, 'penalty': 'l1'}. Best is trial 10 with value: 0.7808074402874656.\n",
      "[I 2024-10-14 16:50:47,229] Trial 28 finished with value: 0.3333333333333333 and parameters: {'C': 0.0009685621935129833, 'penalty': 'l1'}. Best is trial 10 with value: 0.7808074402874656.\n",
      "[I 2024-10-14 16:50:48,103] Trial 29 finished with value: 0.779433523567956 and parameters: {'C': 3.054665390880961, 'penalty': 'l1'}. Best is trial 10 with value: 0.7808074402874656.\n",
      "2024/10/14 16:51:10 WARNING mlflow.models.model: Model logged without a signature and input example. Please set `input_example` parameter when logging the model to auto infer the model signature.\n",
      "2024/10/14 16:51:13 INFO mlflow.tracking._tracking_service.client: 🏃 View run LogisticRegression_SMOTE_TFIDF_Trigrams at: http://ec2-65-2-83-175.ap-south-1.compute.amazonaws.com:5000/#/experiments/518611293050755908/runs/01fdcb7b3f4843d5bf6ab4a0af314ee2.\n",
      "2024/10/14 16:51:13 INFO mlflow.tracking._tracking_service.client: 🧪 View experiment at: http://ec2-65-2-83-175.ap-south-1.compute.amazonaws.com:5000/#/experiments/518611293050755908.\n"
     ]
    }
   ],
   "source": [
    "# Step 1: (Optional) Remapping - skipped since not strictly needed for Logistic Regression\n",
    "\n",
    "# Step 2: Remove rows where the target labels (category) are NaN\n",
    "df = df.dropna(subset=['category'])\n",
    "\n",
    "# Step 3: TF-IDF vectorizer setup\n",
    "ngram_range = (1, 3)  # Trigram\n",
    "max_features = 1000  # Set max_features to 1000\n",
    "vectorizer = TfidfVectorizer(ngram_range=ngram_range, max_features=max_features)\n",
    "X = vectorizer.fit_transform(df['clean_comment'])\n",
    "y = df['category']\n",
    "\n",
    "# Step 4: Apply SMOTE to handle class imbalance\n",
    "smote = SMOTE(random_state=42)\n",
    "X_resampled, y_resampled = smote.fit_resample(X, y)\n",
    "\n",
    "# Step 5: Train-test split\n",
    "X_train, X_test, y_train, y_test = train_test_split(X_resampled, y_resampled, test_size=0.2, random_state=42, stratify=y_resampled)\n",
    "\n",
    "# Function to log results in MLflow\n",
    "def log_mlflow(model_name, model, X_train, X_test, y_train, y_test):\n",
    "    with mlflow.start_run():\n",
    "        # Log model type\n",
    "        mlflow.set_tag(\"mlflow.runName\", f\"{model_name}_SMOTE_TFIDF_Trigrams\")\n",
    "        mlflow.set_tag(\"experiment_type\", \"algorithm_comparison\")\n",
    "\n",
    "        # Log algorithm name as a parameter\n",
    "        mlflow.log_param(\"algo_name\", model_name)\n",
    "\n",
    "        # Train model\n",
    "        model.fit(X_train, y_train)\n",
    "        y_pred = model.predict(X_test)\n",
    "\n",
    "        # Log accuracy\n",
    "        accuracy = accuracy_score(y_test, y_pred)\n",
    "        mlflow.log_metric(\"accuracy\", accuracy)\n",
    "\n",
    "        # Log classification report\n",
    "        classification_rep = classification_report(y_test, y_pred, output_dict=True)\n",
    "        for label, metrics in classification_rep.items():\n",
    "            if isinstance(metrics, dict):\n",
    "                for metric, value in metrics.items():\n",
    "                    mlflow.log_metric(f\"{label}_{metric}\", value)\n",
    "\n",
    "        # Log the model\n",
    "        mlflow.sklearn.log_model(model, f\"{model_name}_model\")\n",
    "\n",
    "\n",
    "# Step 6: Optuna objective function for Logistic Regression\n",
    "def objective_logreg(trial):\n",
    "    C = trial.suggest_float('C', 1e-4, 10.0, log=True)\n",
    "    penalty = trial.suggest_categorical('penalty', ['l1', 'l2'])\n",
    "\n",
    "    # LogisticRegression model setup with balanced class weight\n",
    "    model = LogisticRegression(C=C, penalty=penalty, solver='liblinear', random_state=42)\n",
    "    return accuracy_score(y_test, model.fit(X_train, y_train).predict(X_test))\n",
    "\n",
    "\n",
    "# Step 7: Run Optuna for Logistic Regression, log the best model only\n",
    "def run_optuna_experiment():\n",
    "    study = optuna.create_study(direction=\"maximize\")\n",
    "    study.optimize(objective_logreg, n_trials=30)\n",
    "\n",
    "    # Get the best parameters and log only the best model\n",
    "    best_params = study.best_params\n",
    "    best_model = LogisticRegression(C=best_params['C'], penalty=best_params['penalty'], solver='liblinear', random_state=42)\n",
    "\n",
    "    # Log the best model with MLflow, passing the algo_name as \"LogisticRegression\"\n",
    "    log_mlflow(\"LogisticRegression\", best_model, X_train, X_test, y_train, y_test)\n",
    "\n",
    "# Run the experiment for Logistic Regression\n",
    "run_optuna_experiment()"
   ]
  },
  {
   "cell_type": "code",
   "execution_count": null,
   "metadata": {},
   "outputs": [],
   "source": []
  }
 ],
 "metadata": {
  "kernelspec": {
   "display_name": "Python 3",
   "language": "python",
   "name": "python3"
  },
  "language_info": {
   "codemirror_mode": {
    "name": "ipython",
    "version": 3
   },
   "file_extension": ".py",
   "mimetype": "text/x-python",
   "name": "python",
   "nbconvert_exporter": "python",
   "pygments_lexer": "ipython3",
   "version": "3.12.5"
  }
 },
 "nbformat": 4,
 "nbformat_minor": 2
}
