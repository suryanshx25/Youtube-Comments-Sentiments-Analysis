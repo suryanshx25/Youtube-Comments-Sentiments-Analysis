{
 "cells": [
  {
   "cell_type": "code",
   "execution_count": 1,
   "metadata": {},
   "outputs": [],
   "source": [
    "import mlflow\n",
    "# Step 2: Set up the MLflow tracking server\n",
    "mlflow.set_tracking_uri(\"http://ec2-65-2-83-175.ap-south-1.compute.amazonaws.com:5000/\")"
   ]
  },
  {
   "cell_type": "code",
   "execution_count": 2,
   "metadata": {},
   "outputs": [
    {
     "name": "stderr",
     "output_type": "stream",
     "text": [
      "2024/10/14 17:03:57 INFO mlflow.tracking.fluent: Experiment with name 'Exp - 10 ML Algos with HP Tuning' does not exist. Creating a new experiment.\n"
     ]
    },
    {
     "data": {
      "text/plain": [
       "<Experiment: artifact_location='s3://youtube-comments-sentiment/873095604153860590', creation_time=1728905656577, experiment_id='873095604153860590', last_update_time=1728905656577, lifecycle_stage='active', name='Exp - 10 ML Algos with HP Tuning', tags={}>"
      ]
     },
     "execution_count": 2,
     "metadata": {},
     "output_type": "execute_result"
    }
   ],
   "source": [
    "# Set or create an experiment\n",
    "mlflow.set_experiment(\"Exp - 10 ML Algos with HP Tuning\")"
   ]
  },
  {
   "cell_type": "code",
   "execution_count": 3,
   "metadata": {},
   "outputs": [],
   "source": [
    "import pandas as pd\n",
    "from sklearn.feature_extraction.text import TfidfVectorizer\n",
    "from sklearn.model_selection import train_test_split\n",
    "from sklearn.naive_bayes import MultinomialNB\n",
    "from sklearn.metrics import accuracy_score, classification_report\n",
    "from imblearn.over_sampling import SMOTE\n",
    "import mlflow\n",
    "import mlflow.sklearn\n",
    "import optuna\n"
   ]
  },
  {
   "cell_type": "code",
   "execution_count": 4,
   "metadata": {},
   "outputs": [
    {
     "data": {
      "text/plain": [
       "(36662, 2)"
      ]
     },
     "execution_count": 4,
     "metadata": {},
     "output_type": "execute_result"
    }
   ],
   "source": [
    "df = pd.read_csv('Preprocessed_Reddit.csv').dropna()\n",
    "df.shape"
   ]
  },
  {
   "cell_type": "code",
   "execution_count": 5,
   "metadata": {},
   "outputs": [
    {
     "name": "stderr",
     "output_type": "stream",
     "text": [
      "[I 2024-10-14 17:05:02,415] A new study created in memory with name: no-name-f9bb2ac5-f2cb-4834-a0a9-429af2c3234b\n",
      "[I 2024-10-14 17:05:02,504] Trial 0 finished with value: 0.6673007820756711 and parameters: {'alpha': 0.00010097300064614892}. Best is trial 0 with value: 0.6673007820756711.\n",
      "[I 2024-10-14 17:05:02,528] Trial 1 finished with value: 0.6645529486366518 and parameters: {'alpha': 0.9367582732660986}. Best is trial 0 with value: 0.6673007820756711.\n",
      "[I 2024-10-14 17:05:02,556] Trial 2 finished with value: 0.6651870640456563 and parameters: {'alpha': 0.43132726154319817}. Best is trial 0 with value: 0.6673007820756711.\n",
      "[I 2024-10-14 17:05:02,585] Trial 3 finished with value: 0.6673007820756711 and parameters: {'alpha': 0.00014239374837347977}. Best is trial 0 with value: 0.6673007820756711.\n",
      "[I 2024-10-14 17:05:02,610] Trial 4 finished with value: 0.6674064679771718 and parameters: {'alpha': 0.021275804685852835}. Best is trial 4 with value: 0.6674064679771718.\n",
      "[I 2024-10-14 17:05:02,637] Trial 5 finished with value: 0.6674064679771718 and parameters: {'alpha': 0.0020735812853938506}. Best is trial 4 with value: 0.6674064679771718.\n",
      "[I 2024-10-14 17:05:02,657] Trial 6 finished with value: 0.6673007820756711 and parameters: {'alpha': 0.02715665382493902}. Best is trial 4 with value: 0.6674064679771718.\n",
      "[I 2024-10-14 17:05:02,687] Trial 7 finished with value: 0.6671950961741704 and parameters: {'alpha': 0.007736188393746969}. Best is trial 4 with value: 0.6674064679771718.\n",
      "[I 2024-10-14 17:05:02,717] Trial 8 finished with value: 0.6673007820756711 and parameters: {'alpha': 0.00010245066418643215}. Best is trial 4 with value: 0.6674064679771718.\n",
      "[I 2024-10-14 17:05:02,739] Trial 9 finished with value: 0.6673007820756711 and parameters: {'alpha': 0.01882599322906932}. Best is trial 4 with value: 0.6674064679771718.\n",
      "[I 2024-10-14 17:05:02,787] Trial 10 finished with value: 0.6667723525681674 and parameters: {'alpha': 0.11500858046114609}. Best is trial 4 with value: 0.6674064679771718.\n",
      "[I 2024-10-14 17:05:02,822] Trial 11 finished with value: 0.6674064679771718 and parameters: {'alpha': 0.0023178933129862347}. Best is trial 4 with value: 0.6674064679771718.\n",
      "[I 2024-10-14 17:05:02,850] Trial 12 finished with value: 0.6673007820756711 and parameters: {'alpha': 0.0008413840649899954}. Best is trial 4 with value: 0.6674064679771718.\n",
      "[I 2024-10-14 17:05:02,891] Trial 13 finished with value: 0.6673007820756711 and parameters: {'alpha': 0.0018066007690590307}. Best is trial 4 with value: 0.6674064679771718.\n",
      "[I 2024-10-14 17:05:02,927] Trial 14 finished with value: 0.6670894102726697 and parameters: {'alpha': 0.06240472735936522}. Best is trial 4 with value: 0.6674064679771718.\n",
      "[I 2024-10-14 17:05:02,973] Trial 15 finished with value: 0.6673007820756711 and parameters: {'alpha': 0.004474738360267335}. Best is trial 4 with value: 0.6674064679771718.\n",
      "[I 2024-10-14 17:05:03,013] Trial 16 finished with value: 0.6673007820756711 and parameters: {'alpha': 0.0006665329158389723}. Best is trial 4 with value: 0.6674064679771718.\n",
      "[I 2024-10-14 17:05:03,055] Trial 17 finished with value: 0.6666666666666666 and parameters: {'alpha': 0.1091979873159181}. Best is trial 4 with value: 0.6674064679771718.\n",
      "[I 2024-10-14 17:05:03,105] Trial 18 finished with value: 0.6673007820756711 and parameters: {'alpha': 0.00047592298678301304}. Best is trial 4 with value: 0.6674064679771718.\n",
      "[I 2024-10-14 17:05:03,151] Trial 19 finished with value: 0.6673007820756711 and parameters: {'alpha': 0.0172179357828903}. Best is trial 4 with value: 0.6674064679771718.\n",
      "[I 2024-10-14 17:05:03,188] Trial 20 finished with value: 0.6673007820756711 and parameters: {'alpha': 0.00501814171979713}. Best is trial 4 with value: 0.6674064679771718.\n",
      "[I 2024-10-14 17:05:03,220] Trial 21 finished with value: 0.6674064679771718 and parameters: {'alpha': 0.002268153811413172}. Best is trial 4 with value: 0.6674064679771718.\n",
      "[I 2024-10-14 17:05:03,262] Trial 22 finished with value: 0.6674064679771718 and parameters: {'alpha': 0.0023029174501768943}. Best is trial 4 with value: 0.6674064679771718.\n",
      "[I 2024-10-14 17:05:03,289] Trial 23 finished with value: 0.6673007820756711 and parameters: {'alpha': 0.00040578885774608854}. Best is trial 4 with value: 0.6674064679771718.\n",
      "[I 2024-10-14 17:05:03,327] Trial 24 finished with value: 0.6673007820756711 and parameters: {'alpha': 0.001195509497911033}. Best is trial 4 with value: 0.6674064679771718.\n",
      "[I 2024-10-14 17:05:03,355] Trial 25 finished with value: 0.6671950961741704 and parameters: {'alpha': 0.008755196788518068}. Best is trial 4 with value: 0.6674064679771718.\n",
      "[I 2024-10-14 17:05:03,390] Trial 26 finished with value: 0.6671950961741704 and parameters: {'alpha': 0.032582704824078254}. Best is trial 4 with value: 0.6674064679771718.\n",
      "[I 2024-10-14 17:05:03,422] Trial 27 finished with value: 0.6673007820756711 and parameters: {'alpha': 0.0038923963608847255}. Best is trial 4 with value: 0.6674064679771718.\n",
      "[I 2024-10-14 17:05:03,453] Trial 28 finished with value: 0.6673007820756711 and parameters: {'alpha': 0.00025906955362877814}. Best is trial 4 with value: 0.6674064679771718.\n",
      "[I 2024-10-14 17:05:03,489] Trial 29 finished with value: 0.6671950961741704 and parameters: {'alpha': 0.013289833136539952}. Best is trial 4 with value: 0.6674064679771718.\n",
      "2024/10/14 17:05:25 WARNING mlflow.models.model: Model logged without a signature and input example. Please set `input_example` parameter when logging the model to auto infer the model signature.\n",
      "2024/10/14 17:05:29 INFO mlflow.tracking._tracking_service.client: 🏃 View run MultinomialNB_SMOTE_TFIDF_Trigrams at: http://ec2-65-2-83-175.ap-south-1.compute.amazonaws.com:5000/#/experiments/873095604153860590/runs/bca5e5c8909949d7bf076e12992e8f57.\n",
      "2024/10/14 17:05:29 INFO mlflow.tracking._tracking_service.client: 🧪 View experiment at: http://ec2-65-2-83-175.ap-south-1.compute.amazonaws.com:5000/#/experiments/873095604153860590.\n"
     ]
    }
   ],
   "source": [
    "# Step 1: (Optional) Remapping - skipped since not strictly needed for Multinomial Naive Bayes\n",
    "\n",
    "# Step 2: Remove rows where the target labels (category) are NaN\n",
    "df = df.dropna(subset=['category'])\n",
    "\n",
    "# Step 3: TF-IDF vectorizer setup\n",
    "ngram_range = (1, 3)  # Trigram\n",
    "max_features = 1000  # Set max_features to 1000\n",
    "vectorizer = TfidfVectorizer(ngram_range=ngram_range, max_features=max_features)\n",
    "X = vectorizer.fit_transform(df['clean_comment'])\n",
    "y = df['category']\n",
    "\n",
    "# Step 4: Apply SMOTE to handle class imbalance\n",
    "smote = SMOTE(random_state=42)\n",
    "X_resampled, y_resampled = smote.fit_resample(X, y)\n",
    "\n",
    "# Step 5: Train-test split\n",
    "X_train, X_test, y_train, y_test = train_test_split(X_resampled, y_resampled, test_size=0.2, random_state=42, stratify=y_resampled)\n",
    "\n",
    "# Function to log results in MLflow\n",
    "def log_mlflow(model_name, model, X_train, X_test, y_train, y_test):\n",
    "    with mlflow.start_run():\n",
    "        # Log model type\n",
    "        mlflow.set_tag(\"mlflow.runName\", f\"{model_name}_SMOTE_TFIDF_Trigrams\")\n",
    "        mlflow.set_tag(\"experiment_type\", \"algorithm_comparison\")\n",
    "\n",
    "        # Log algorithm name as a parameter\n",
    "        mlflow.log_param(\"algo_name\", model_name)\n",
    "\n",
    "        # Train model\n",
    "        model.fit(X_train, y_train)\n",
    "        y_pred = model.predict(X_test)\n",
    "\n",
    "        # Log accuracy\n",
    "        accuracy = accuracy_score(y_test, y_pred)\n",
    "        mlflow.log_metric(\"accuracy\", accuracy)\n",
    "\n",
    "        # Log classification report\n",
    "        classification_rep = classification_report(y_test, y_pred, output_dict=True)\n",
    "        for label, metrics in classification_rep.items():\n",
    "            if isinstance(metrics, dict):\n",
    "                for metric, value in metrics.items():\n",
    "                    mlflow.log_metric(f\"{label}_{metric}\", value)\n",
    "\n",
    "        # Log the model\n",
    "        mlflow.sklearn.log_model(model, f\"{model_name}_model\")\n",
    "\n",
    "\n",
    "# Step 6: Optuna objective function for Multinomial Naive Bayes\n",
    "def objective_mnb(trial):\n",
    "    alpha = trial.suggest_float('alpha', 1e-4, 1.0, log=True)  # Tuning the smoothing parameter\n",
    "\n",
    "    # MultinomialNB model setup\n",
    "    model = MultinomialNB(alpha=alpha)\n",
    "    return accuracy_score(y_test, model.fit(X_train, y_train).predict(X_test))\n",
    "\n",
    "\n",
    "# Step 7: Run Optuna for Multinomial Naive Bayes, log the best model only\n",
    "def run_optuna_experiment():\n",
    "    study = optuna.create_study(direction=\"maximize\")\n",
    "    study.optimize(objective_mnb, n_trials=30)\n",
    "\n",
    "    # Get the best parameters and log only the best model\n",
    "    best_params = study.best_params\n",
    "    best_model = MultinomialNB(alpha=best_params['alpha'])\n",
    "\n",
    "    # Log the best model with MLflow, passing the algo_name as \"MultinomialNB\"\n",
    "    log_mlflow(\"MultinomialNB\", best_model, X_train, X_test, y_train, y_test)\n",
    "\n",
    "# Run the experiment for Multinomial Naive Bayes\n",
    "run_optuna_experiment()"
   ]
  },
  {
   "cell_type": "code",
   "execution_count": null,
   "metadata": {},
   "outputs": [],
   "source": []
  }
 ],
 "metadata": {
  "kernelspec": {
   "display_name": "Python 3",
   "language": "python",
   "name": "python3"
  },
  "language_info": {
   "codemirror_mode": {
    "name": "ipython",
    "version": 3
   },
   "file_extension": ".py",
   "mimetype": "text/x-python",
   "name": "python",
   "nbconvert_exporter": "python",
   "pygments_lexer": "ipython3",
   "version": "3.12.5"
  }
 },
 "nbformat": 4,
 "nbformat_minor": 2
}
