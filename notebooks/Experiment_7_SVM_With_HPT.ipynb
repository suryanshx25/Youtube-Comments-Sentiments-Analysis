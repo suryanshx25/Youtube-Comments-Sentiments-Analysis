{
 "cells": [
  {
   "cell_type": "code",
   "execution_count": 1,
   "metadata": {},
   "outputs": [],
   "source": [
    "import mlflow\n",
    "# Step 2: Set up the MLflow tracking server\n",
    "mlflow.set_tracking_uri(\"http://ec2-65-2-83-175.ap-south-1.compute.amazonaws.com:5000/\")"
   ]
  },
  {
   "cell_type": "code",
   "execution_count": 2,
   "metadata": {},
   "outputs": [
    {
     "data": {
      "text/plain": [
       "<Experiment: artifact_location='s3://youtube-comments-sentiment/219674446340487604', creation_time=1728839365195, experiment_id='219674446340487604', last_update_time=1728839365195, lifecycle_stage='active', name='Exp - 7 ML Algos with HP Tuning', tags={}>"
      ]
     },
     "execution_count": 2,
     "metadata": {},
     "output_type": "execute_result"
    }
   ],
   "source": [
    "# Set or create an experiment\n",
    "mlflow.set_experiment(\"Exp - 7 ML Algos with HP Tuning\")"
   ]
  },
  {
   "cell_type": "code",
   "execution_count": 3,
   "metadata": {},
   "outputs": [],
   "source": [
    "import pandas as pd\n",
    "from sklearn.feature_extraction.text import TfidfVectorizer\n",
    "from sklearn.model_selection import train_test_split\n",
    "from sklearn.metrics import accuracy_score, classification_report\n",
    "from sklearn.svm import SVC\n",
    "from imblearn.over_sampling import SMOTE\n",
    "import mlflow\n",
    "import mlflow.sklearn\n",
    "import optuna"
   ]
  },
  {
   "cell_type": "code",
   "execution_count": 4,
   "metadata": {},
   "outputs": [
    {
     "data": {
      "text/plain": [
       "(36662, 2)"
      ]
     },
     "execution_count": 4,
     "metadata": {},
     "output_type": "execute_result"
    }
   ],
   "source": [
    "df = pd.read_csv('Preprocessed_Reddit.csv').dropna()\n",
    "df.shape"
   ]
  },
  {
   "cell_type": "code",
   "execution_count": null,
   "metadata": {},
   "outputs": [
    {
     "name": "stderr",
     "output_type": "stream",
     "text": [
      "[I 2024-10-14 13:23:51,943] A new study created in memory with name: no-name-da3c0423-6eab-4831-8732-c35be716774f\n",
      "[I 2024-10-14 13:27:50,880] Trial 0 finished with value: 0.6913971676178398 and parameters: {'C': 0.033429659744196746, 'kernel': 'linear'}. Best is trial 0 with value: 0.6913971676178398.\n",
      "[I 2024-10-14 13:32:01,402] Trial 1 finished with value: 0.49513844853096595 and parameters: {'C': 0.025872608818177698, 'kernel': 'rbf'}. Best is trial 0 with value: 0.6913971676178398.\n",
      "[I 2024-10-14 13:36:14,844] Trial 2 finished with value: 0.44831959416613826 and parameters: {'C': 0.0008484749116820825, 'kernel': 'linear'}. Best is trial 0 with value: 0.6913971676178398.\n",
      "[I 2024-10-14 13:40:25,370] Trial 3 finished with value: 0.3628196998520397 and parameters: {'C': 0.00033926367539467993, 'kernel': 'poly'}. Best is trial 0 with value: 0.6913971676178398.\n",
      "[I 2024-10-14 13:44:47,597] Trial 4 finished with value: 0.3993870217712957 and parameters: {'C': 0.0007225221496293811, 'kernel': 'rbf'}. Best is trial 0 with value: 0.6913971676178398.\n",
      "[I 2024-10-14 13:48:13,992] Trial 5 finished with value: 0.7050306489114352 and parameters: {'C': 0.043040297531181305, 'kernel': 'linear'}. Best is trial 5 with value: 0.7050306489114352.\n",
      "[I 2024-10-14 13:50:49,090] Trial 6 finished with value: 0.7594588881843162 and parameters: {'C': 0.41218545195933004, 'kernel': 'linear'}. Best is trial 6 with value: 0.7594588881843162.\n",
      "[I 2024-10-14 13:54:10,963] Trial 7 finished with value: 0.6805115197632636 and parameters: {'C': 0.027279334368846886, 'kernel': 'linear'}. Best is trial 6 with value: 0.7594588881843162.\n",
      "[I 2024-10-14 13:58:13,090] Trial 8 finished with value: 0.3972733037412809 and parameters: {'C': 0.0022360505466815484, 'kernel': 'rbf'}. Best is trial 6 with value: 0.7594588881843162.\n",
      "[I 2024-10-14 14:00:42,164] Trial 9 finished with value: 0.7595645740858169 and parameters: {'C': 0.3554543594337854, 'kernel': 'linear'}. Best is trial 9 with value: 0.7595645740858169.\n",
      "[I 2024-10-14 14:12:36,528] Trial 10 finished with value: 0.6963644049883746 and parameters: {'C': 6.7038030054842865, 'kernel': 'poly'}. Best is trial 9 with value: 0.7595645740858169.\n",
      "[I 2024-10-14 14:14:58,325] Trial 11 finished with value: 0.764003381948848 and parameters: {'C': 0.8709436136217472, 'kernel': 'linear'}. Best is trial 11 with value: 0.764003381948848.\n",
      "[I 2024-10-14 14:17:22,296] Trial 12 finished with value: 0.7665398435848658 and parameters: {'C': 1.2122474747040228, 'kernel': 'linear'}. Best is trial 12 with value: 0.7665398435848658.\n",
      "[I 2024-10-14 14:21:11,224] Trial 13 finished with value: 0.7760515747199324 and parameters: {'C': 5.971563729918733, 'kernel': 'linear'}. Best is trial 13 with value: 0.7760515747199324.\n",
      "[I 2024-10-14 14:25:13,609] Trial 14 finished with value: 0.7763686324244345 and parameters: {'C': 6.405553870598084, 'kernel': 'linear'}. Best is trial 14 with value: 0.7763686324244345.\n",
      "[I 2024-10-14 14:37:07,252] Trial 15 finished with value: 0.6966814626928768 and parameters: {'C': 8.085691572937579, 'kernel': 'poly'}. Best is trial 14 with value: 0.7763686324244345.\n",
      "[I 2024-10-14 14:40:10,057] Trial 16 finished with value: 0.7730923694779116 and parameters: {'C': 2.5099337003970223, 'kernel': 'linear'}. Best is trial 14 with value: 0.7763686324244345.\n",
      "[I 2024-10-14 14:42:47,476] Trial 17 finished with value: 0.7498414711477489 and parameters: {'C': 0.19192129814165904, 'kernel': 'linear'}. Best is trial 14 with value: 0.7763686324244345.\n",
      "[I 2024-10-14 14:52:42,326] Trial 18 finished with value: 0.8321707884168252 and parameters: {'C': 2.7232139378015416, 'kernel': 'rbf'}. Best is trial 18 with value: 0.8321707884168252.\n",
      "[I 2024-10-14 14:56:55,431] Trial 19 finished with value: 0.4063622912703445 and parameters: {'C': 0.0050758639048185, 'kernel': 'rbf'}. Best is trial 18 with value: 0.8321707884168252.\n",
      "[I 2024-10-14 15:00:12,633] Trial 20 finished with value: 0.7316634960896217 and parameters: {'C': 0.10123176773917958, 'kernel': 'rbf'}. Best is trial 18 with value: 0.8321707884168252.\n",
      "[I 2024-10-14 15:08:40,673] Trial 21 finished with value: 0.832276474318326 and parameters: {'C': 3.3247157086044465, 'kernel': 'rbf'}. Best is trial 21 with value: 0.832276474318326.\n",
      "[I 2024-10-14 15:16:52,662] Trial 22 finished with value: 0.8306911857958148 and parameters: {'C': 2.184951454228059, 'kernel': 'rbf'}. Best is trial 21 with value: 0.832276474318326.\n",
      "[I 2024-10-14 15:25:21,265] Trial 23 finished with value: 0.8312196153033186 and parameters: {'C': 2.139284835978975, 'kernel': 'rbf'}. Best is trial 21 with value: 0.832276474318326.\n",
      "[I 2024-10-14 15:34:44,385] Trial 24 finished with value: 0.8190657366307335 and parameters: {'C': 1.0525433591337263, 'kernel': 'rbf'}. Best is trial 21 with value: 0.832276474318326.\n",
      "[I 2024-10-14 15:50:43,059] Trial 25 finished with value: 0.8313253012048193 and parameters: {'C': 2.4885013996844103, 'kernel': 'rbf'}. Best is trial 21 with value: 0.832276474318326.\n",
      "[I 2024-10-14 15:57:32,795] Trial 26 finished with value: 0.7980342422320862 and parameters: {'C': 0.40631768234425414, 'kernel': 'rbf'}. Best is trial 21 with value: 0.832276474318326.\n",
      "[I 2024-10-14 16:13:16,730] Trial 27 finished with value: 0.8319594166138237 and parameters: {'C': 3.3610246515402538, 'kernel': 'rbf'}. Best is trial 21 with value: 0.832276474318326.\n",
      "[I 2024-10-14 16:22:03,755] Trial 28 finished with value: 0.813570069752695 and parameters: {'C': 0.8331002745492515, 'kernel': 'rbf'}. Best is trial 21 with value: 0.832276474318326.\n",
      "[I 2024-10-14 16:29:15,558] Trial 29 finished with value: 0.4218981187909533 and parameters: {'C': 0.008748325827231949, 'kernel': 'rbf'}. Best is trial 21 with value: 0.832276474318326.\n"
     ]
    }
   ],
   "source": [
    "# Step 1: (Optional) Remapping - skipped since not strictly needed for SVM\n",
    "\n",
    "# Step 2: Remove rows where the target labels (category) are NaN\n",
    "df = df.dropna(subset=['category'])\n",
    "\n",
    "# Step 3: TF-IDF vectorizer setup\n",
    "ngram_range = (1, 3)  # Trigram\n",
    "max_features = 1000  # Set max_features to 1000\n",
    "vectorizer = TfidfVectorizer(ngram_range=ngram_range, max_features=max_features)\n",
    "X = vectorizer.fit_transform(df['clean_comment'])\n",
    "y = df['category']\n",
    "\n",
    "# Step 4: Apply SMOTE to handle class imbalance\n",
    "smote = SMOTE(random_state=42)\n",
    "X_resampled, y_resampled = smote.fit_resample(X, y)\n",
    "\n",
    "# Step 5: Train-test split\n",
    "X_train, X_test, y_train, y_test = train_test_split(X_resampled, y_resampled, test_size=0.2, random_state=42, stratify=y_resampled)\n",
    "\n",
    "# Function to log results in MLflow\n",
    "def log_mlflow(model_name, model, X_train, X_test, y_train, y_test):\n",
    "    with mlflow.start_run():\n",
    "        # Log model type\n",
    "        mlflow.set_tag(\"mlflow.runName\", f\"{model_name}_SMOTE_TFIDF_Trigrams\")\n",
    "        mlflow.set_tag(\"experiment_type\", \"algorithm_comparison\")\n",
    "\n",
    "        # Log algorithm name as a parameter\n",
    "        mlflow.log_param(\"algo_name\", model_name)\n",
    "\n",
    "        # Train model\n",
    "        model.fit(X_train, y_train)\n",
    "        y_pred = model.predict(X_test)\n",
    "\n",
    "        # Log accuracy\n",
    "        accuracy = accuracy_score(y_test, y_pred)\n",
    "        mlflow.log_metric(\"accuracy\", accuracy)\n",
    "\n",
    "        # Log classification report\n",
    "        classification_rep = classification_report(y_test, y_pred, output_dict=True)\n",
    "        for label, metrics in classification_rep.items():\n",
    "            if isinstance(metrics, dict):\n",
    "                for metric, value in metrics.items():\n",
    "                    mlflow.log_metric(f\"{label}_{metric}\", value)\n",
    "\n",
    "        # Log the model\n",
    "        mlflow.sklearn.log_model(model, f\"{model_name}_model\")\n",
    "\n",
    "\n",
    "# Step 6: Optuna objective function for SVM\n",
    "def objective_svm(trial):\n",
    "    C = trial.suggest_float('C', 1e-4, 10.0, log=True)\n",
    "    kernel = trial.suggest_categorical('kernel', ['linear', 'rbf', 'poly'])\n",
    "\n",
    "    model = SVC(C=C, kernel=kernel, random_state=42)\n",
    "    return accuracy_score(y_test, model.fit(X_train, y_train).predict(X_test))\n",
    "\n",
    "\n",
    "# Step 7: Run Optuna for SVM, log the best model only\n",
    "def run_optuna_experiment():\n",
    "    study = optuna.create_study(direction=\"maximize\")\n",
    "    study.optimize(objective_svm, n_trials=30)\n",
    "\n",
    "    # Get the best parameters and log only the best model\n",
    "    best_params = study.best_params\n",
    "    best_model = SVC(C=best_params['C'], kernel=best_params['kernel'], random_state=42)\n",
    "\n",
    "    # Log the best model with MLflow, passing the algo_name as \"SVM\"\n",
    "    log_mlflow(\"SVM\", best_model, X_train, X_test, y_train, y_test)\n",
    "\n",
    "# Run the experiment for SVM\n",
    "run_optuna_experiment()"
   ]
  },
  {
   "cell_type": "code",
   "execution_count": null,
   "metadata": {},
   "outputs": [],
   "source": []
  }
 ],
 "metadata": {
  "kernelspec": {
   "display_name": "Python 3",
   "language": "python",
   "name": "python3"
  },
  "language_info": {
   "codemirror_mode": {
    "name": "ipython",
    "version": 3
   },
   "file_extension": ".py",
   "mimetype": "text/x-python",
   "name": "python",
   "nbconvert_exporter": "python",
   "pygments_lexer": "ipython3",
   "version": "3.12.5"
  }
 },
 "nbformat": 4,
 "nbformat_minor": 2
}
