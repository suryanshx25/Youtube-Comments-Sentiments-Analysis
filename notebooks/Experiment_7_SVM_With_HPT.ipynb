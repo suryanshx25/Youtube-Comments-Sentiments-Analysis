{
 "cells": [
  {
   "cell_type": "code",
   "execution_count": 1,
   "metadata": {},
   "outputs": [],
   "source": [
    "import mlflow\n",
    "# Step 2: Set up the MLflow tracking server\n",
    "mlflow.set_tracking_uri(\"http://ec2-65-2-83-175.ap-south-1.compute.amazonaws.com:5000/\")"
   ]
  },
  {
   "cell_type": "code",
   "execution_count": 2,
   "metadata": {},
   "outputs": [
    {
     "name": "stderr",
     "output_type": "stream",
     "text": [
      "2024/10/13 22:39:06 INFO mlflow.tracking.fluent: Experiment with name 'Exp - 7 ML Algos with HP Tuning' does not exist. Creating a new experiment.\n"
     ]
    },
    {
     "data": {
      "text/plain": [
       "<Experiment: artifact_location='s3://youtube-comments-sentiment/219674446340487604', creation_time=1728839365195, experiment_id='219674446340487604', last_update_time=1728839365195, lifecycle_stage='active', name='Exp - 7 ML Algos with HP Tuning', tags={}>"
      ]
     },
     "execution_count": 2,
     "metadata": {},
     "output_type": "execute_result"
    }
   ],
   "source": [
    "# Set or create an experiment\n",
    "mlflow.set_experiment(\"Exp - 7 ML Algos with HP Tuning\")"
   ]
  },
  {
   "cell_type": "code",
   "execution_count": 3,
   "metadata": {},
   "outputs": [],
   "source": [
    "import pandas as pd\n",
    "from sklearn.feature_extraction.text import TfidfVectorizer\n",
    "from sklearn.model_selection import train_test_split\n",
    "from sklearn.metrics import accuracy_score, classification_report\n",
    "from sklearn.svm import SVC\n",
    "from imblearn.over_sampling import SMOTE\n",
    "import mlflow\n",
    "import mlflow.sklearn\n",
    "import optuna"
   ]
  },
  {
   "cell_type": "code",
   "execution_count": 4,
   "metadata": {},
   "outputs": [
    {
     "data": {
      "text/plain": [
       "(36662, 2)"
      ]
     },
     "execution_count": 4,
     "metadata": {},
     "output_type": "execute_result"
    }
   ],
   "source": [
    "df = pd.read_csv('Preprocessed_Reddit.csv').dropna()\n",
    "df.shape"
   ]
  },
  {
   "cell_type": "code",
   "execution_count": null,
   "metadata": {},
   "outputs": [
    {
     "name": "stderr",
     "output_type": "stream",
     "text": [
      "[I 2024-10-13 22:40:24,692] A new study created in memory with name: no-name-6f813008-6a07-4ed3-867f-c5c9cf0e1862\n",
      "[I 2024-10-13 22:47:39,043] Trial 0 finished with value: 0.3628196998520397 and parameters: {'C': 0.0001000832290885956, 'kernel': 'poly'}. Best is trial 0 with value: 0.3628196998520397.\n",
      "[I 2024-10-13 22:55:29,807] Trial 1 finished with value: 0.3993870217712957 and parameters: {'C': 0.00010903284758274029, 'kernel': 'rbf'}. Best is trial 1 with value: 0.3993870217712957.\n",
      "[I 2024-10-13 23:17:47,934] Trial 2 finished with value: 0.6952018600718665 and parameters: {'C': 2.683833211333723, 'kernel': 'poly'}. Best is trial 2 with value: 0.6952018600718665.\n",
      "[I 2024-10-13 23:24:38,881] Trial 3 finished with value: 0.4415556964700909 and parameters: {'C': 0.029796668401818268, 'kernel': 'poly'}. Best is trial 2 with value: 0.6952018600718665.\n",
      "[I 2024-10-13 23:43:04,385] Trial 4 finished with value: 0.7143310082435003 and parameters: {'C': 0.749637115795235, 'kernel': 'poly'}. Best is trial 4 with value: 0.7143310082435003.\n",
      "[I 2024-10-13 23:50:05,486] Trial 5 finished with value: 0.44831959416613826 and parameters: {'C': 0.0008846353708771818, 'kernel': 'linear'}. Best is trial 4 with value: 0.7143310082435003.\n",
      "[I 2024-10-13 23:56:20,106] Trial 6 finished with value: 0.681991122384274 and parameters: {'C': 0.06029339855310289, 'kernel': 'rbf'}. Best is trial 4 with value: 0.7143310082435003.\n",
      "[I 2024-10-14 00:02:47,767] Trial 7 finished with value: 0.6744874233777214 and parameters: {'C': 0.05676782038590086, 'kernel': 'rbf'}. Best is trial 4 with value: 0.7143310082435003.\n",
      "[I 2024-10-14 00:10:35,643] Trial 8 finished with value: 0.3993870217712957 and parameters: {'C': 0.00010895727913741687, 'kernel': 'rbf'}. Best is trial 4 with value: 0.7143310082435003.\n"
     ]
    }
   ],
   "source": [
    "# Step 1: (Optional) Remapping - skipped since not strictly needed for SVM\n",
    "\n",
    "# Step 2: Remove rows where the target labels (category) are NaN\n",
    "df = df.dropna(subset=['category'])\n",
    "\n",
    "# Step 3: TF-IDF vectorizer setup\n",
    "ngram_range = (1, 3)  # Trigram\n",
    "max_features = 1000  # Set max_features to 1000\n",
    "vectorizer = TfidfVectorizer(ngram_range=ngram_range, max_features=max_features)\n",
    "X = vectorizer.fit_transform(df['clean_comment'])\n",
    "y = df['category']\n",
    "\n",
    "# Step 4: Apply SMOTE to handle class imbalance\n",
    "smote = SMOTE(random_state=42)\n",
    "X_resampled, y_resampled = smote.fit_resample(X, y)\n",
    "\n",
    "# Step 5: Train-test split\n",
    "X_train, X_test, y_train, y_test = train_test_split(X_resampled, y_resampled, test_size=0.2, random_state=42, stratify=y_resampled)\n",
    "\n",
    "# Function to log results in MLflow\n",
    "def log_mlflow(model_name, model, X_train, X_test, y_train, y_test):\n",
    "    with mlflow.start_run():\n",
    "        # Log model type\n",
    "        mlflow.set_tag(\"mlflow.runName\", f\"{model_name}_SMOTE_TFIDF_Trigrams\")\n",
    "        mlflow.set_tag(\"experiment_type\", \"algorithm_comparison\")\n",
    "\n",
    "        # Log algorithm name as a parameter\n",
    "        mlflow.log_param(\"algo_name\", model_name)\n",
    "\n",
    "        # Train model\n",
    "        model.fit(X_train, y_train)\n",
    "        y_pred = model.predict(X_test)\n",
    "\n",
    "        # Log accuracy\n",
    "        accuracy = accuracy_score(y_test, y_pred)\n",
    "        mlflow.log_metric(\"accuracy\", accuracy)\n",
    "\n",
    "        # Log classification report\n",
    "        classification_rep = classification_report(y_test, y_pred, output_dict=True)\n",
    "        for label, metrics in classification_rep.items():\n",
    "            if isinstance(metrics, dict):\n",
    "                for metric, value in metrics.items():\n",
    "                    mlflow.log_metric(f\"{label}_{metric}\", value)\n",
    "\n",
    "        # Log the model\n",
    "        mlflow.sklearn.log_model(model, f\"{model_name}_model\")\n",
    "\n",
    "\n",
    "# Step 6: Optuna objective function for SVM\n",
    "def objective_svm(trial):\n",
    "    C = trial.suggest_float('C', 1e-4, 10.0, log=True)\n",
    "    kernel = trial.suggest_categorical('kernel', ['linear', 'rbf', 'poly'])\n",
    "\n",
    "    model = SVC(C=C, kernel=kernel, random_state=42)\n",
    "    return accuracy_score(y_test, model.fit(X_train, y_train).predict(X_test))\n",
    "\n",
    "\n",
    "# Step 7: Run Optuna for SVM, log the best model only\n",
    "def run_optuna_experiment():\n",
    "    study = optuna.create_study(direction=\"maximize\")\n",
    "    study.optimize(objective_svm, n_trials=30)\n",
    "\n",
    "    # Get the best parameters and log only the best model\n",
    "    best_params = study.best_params\n",
    "    best_model = SVC(C=best_params['C'], kernel=best_params['kernel'], random_state=42)\n",
    "\n",
    "    # Log the best model with MLflow, passing the algo_name as \"SVM\"\n",
    "    log_mlflow(\"SVM\", best_model, X_train, X_test, y_train, y_test)\n",
    "\n",
    "# Run the experiment for SVM\n",
    "run_optuna_experiment()"
   ]
  },
  {
   "cell_type": "code",
   "execution_count": null,
   "metadata": {},
   "outputs": [],
   "source": []
  }
 ],
 "metadata": {
  "kernelspec": {
   "display_name": "Python 3",
   "language": "python",
   "name": "python3"
  },
  "language_info": {
   "codemirror_mode": {
    "name": "ipython",
    "version": 3
   },
   "file_extension": ".py",
   "mimetype": "text/x-python",
   "name": "python",
   "nbconvert_exporter": "python",
   "pygments_lexer": "ipython3",
   "version": "3.12.5"
  }
 },
 "nbformat": 4,
 "nbformat_minor": 2
}
