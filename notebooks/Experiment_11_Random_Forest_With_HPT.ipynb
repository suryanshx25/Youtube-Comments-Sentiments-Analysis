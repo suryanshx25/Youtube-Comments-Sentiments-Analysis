{
 "cells": [
  {
   "cell_type": "code",
   "execution_count": 1,
   "metadata": {},
   "outputs": [],
   "source": [
    "import mlflow\n",
    "# Step 2: Set up the MLflow tracking server\n",
    "mlflow.set_tracking_uri(\"http://ec2-65-2-83-175.ap-south-1.compute.amazonaws.com:5000/\")"
   ]
  },
  {
   "cell_type": "code",
   "execution_count": 2,
   "metadata": {},
   "outputs": [
    {
     "name": "stderr",
     "output_type": "stream",
     "text": [
      "2024/10/14 17:07:28 INFO mlflow.tracking.fluent: Experiment with name 'Exp - 11 ML Algos with HP Tuning' does not exist. Creating a new experiment.\n"
     ]
    },
    {
     "data": {
      "text/plain": [
       "<Experiment: artifact_location='s3://youtube-comments-sentiment/938969902056822744', creation_time=1728905867310, experiment_id='938969902056822744', last_update_time=1728905867310, lifecycle_stage='active', name='Exp - 11 ML Algos with HP Tuning', tags={}>"
      ]
     },
     "execution_count": 2,
     "metadata": {},
     "output_type": "execute_result"
    }
   ],
   "source": [
    "# Set or create an experiment\n",
    "mlflow.set_experiment(\"Exp - 11 ML Algos with HP Tuning\")"
   ]
  },
  {
   "cell_type": "code",
   "execution_count": 3,
   "metadata": {},
   "outputs": [],
   "source": [
    "import pandas as pd\n",
    "from sklearn.feature_extraction.text import TfidfVectorizer\n",
    "from sklearn.model_selection import train_test_split\n",
    "from sklearn.ensemble import RandomForestClassifier\n",
    "from sklearn.metrics import accuracy_score, classification_report\n",
    "from imblearn.over_sampling import SMOTE\n",
    "import mlflow\n",
    "import mlflow.sklearn\n",
    "import optuna"
   ]
  },
  {
   "cell_type": "code",
   "execution_count": 4,
   "metadata": {},
   "outputs": [
    {
     "data": {
      "text/plain": [
       "(36662, 2)"
      ]
     },
     "execution_count": 4,
     "metadata": {},
     "output_type": "execute_result"
    }
   ],
   "source": [
    "df = pd.read_csv('Preprocessed_Reddit.csv').dropna()\n",
    "df.shape"
   ]
  },
  {
   "cell_type": "code",
   "execution_count": 5,
   "metadata": {},
   "outputs": [
    {
     "name": "stderr",
     "output_type": "stream",
     "text": [
      "[I 2024-10-14 17:08:34,970] A new study created in memory with name: no-name-f0128151-ad8c-41fd-bbd8-43484e27715a\n",
      "[I 2024-10-14 17:08:40,132] Trial 0 finished with value: 0.6382371591629676 and parameters: {'n_estimators': 194, 'max_depth': 5, 'min_samples_split': 9, 'min_samples_leaf': 9}. Best is trial 0 with value: 0.6382371591629676.\n",
      "[I 2024-10-14 17:08:53,999] Trial 1 finished with value: 0.6902346227013316 and parameters: {'n_estimators': 208, 'max_depth': 18, 'min_samples_split': 8, 'min_samples_leaf': 19}. Best is trial 1 with value: 0.6902346227013316.\n",
      "[I 2024-10-14 17:08:57,938] Trial 2 finished with value: 0.6744874233777214 and parameters: {'n_estimators': 67, 'max_depth': 15, 'min_samples_split': 5, 'min_samples_leaf': 16}. Best is trial 1 with value: 0.6902346227013316.\n",
      "[I 2024-10-14 17:09:05,644] Trial 3 finished with value: 0.6953075459733672 and parameters: {'n_estimators': 99, 'max_depth': 18, 'min_samples_split': 16, 'min_samples_leaf': 8}. Best is trial 3 with value: 0.6953075459733672.\n",
      "[I 2024-10-14 17:09:07,590] Trial 4 finished with value: 0.6433100824350032 and parameters: {'n_estimators': 55, 'max_depth': 9, 'min_samples_split': 3, 'min_samples_leaf': 19}. Best is trial 3 with value: 0.6953075459733672.\n",
      "[I 2024-10-14 17:09:14,104] Trial 5 finished with value: 0.6619108010991334 and parameters: {'n_estimators': 143, 'max_depth': 10, 'min_samples_split': 4, 'min_samples_leaf': 8}. Best is trial 3 with value: 0.6953075459733672.\n",
      "[I 2024-10-14 17:09:20,358] Trial 6 finished with value: 0.6689917564996829 and parameters: {'n_estimators': 142, 'max_depth': 11, 'min_samples_split': 9, 'min_samples_leaf': 10}. Best is trial 3 with value: 0.6953075459733672.\n",
      "[I 2024-10-14 17:09:30,494] Trial 7 finished with value: 0.66286197421264 and parameters: {'n_estimators': 247, 'max_depth': 9, 'min_samples_split': 3, 'min_samples_leaf': 5}. Best is trial 3 with value: 0.6953075459733672.\n",
      "[I 2024-10-14 17:09:39,832] Trial 8 finished with value: 0.6518706404565631 and parameters: {'n_estimators': 293, 'max_depth': 7, 'min_samples_split': 12, 'min_samples_leaf': 8}. Best is trial 3 with value: 0.6953075459733672.\n",
      "[I 2024-10-14 17:09:44,016] Trial 9 finished with value: 0.6779750581272458 and parameters: {'n_estimators': 71, 'max_depth': 15, 'min_samples_split': 20, 'min_samples_leaf': 9}. Best is trial 3 with value: 0.6953075459733672.\n",
      "[I 2024-10-14 17:09:55,873] Trial 10 finished with value: 0.7110547452969774 and parameters: {'n_estimators': 116, 'max_depth': 20, 'min_samples_split': 17, 'min_samples_leaf': 1}. Best is trial 10 with value: 0.7110547452969774.\n",
      "[I 2024-10-14 17:10:08,386] Trial 11 finished with value: 0.7136968928344959 and parameters: {'n_estimators': 120, 'max_depth': 20, 'min_samples_split': 17, 'min_samples_leaf': 1}. Best is trial 11 with value: 0.7136968928344959.\n",
      "[I 2024-10-14 17:10:21,310] Trial 12 finished with value: 0.712428662016487 and parameters: {'n_estimators': 126, 'max_depth': 20, 'min_samples_split': 16, 'min_samples_leaf': 1}. Best is trial 11 with value: 0.7136968928344959.\n",
      "[I 2024-10-14 17:10:31,160] Trial 13 finished with value: 0.6890720777848235 and parameters: {'n_estimators': 150, 'max_depth': 14, 'min_samples_split': 15, 'min_samples_leaf': 1}. Best is trial 11 with value: 0.7136968928344959.\n",
      "[I 2024-10-14 17:10:41,598] Trial 14 finished with value: 0.7056647643204397 and parameters: {'n_estimators': 117, 'max_depth': 20, 'min_samples_split': 20, 'min_samples_leaf': 4}. Best is trial 11 with value: 0.7136968928344959.\n",
      "[I 2024-10-14 17:10:55,185] Trial 15 finished with value: 0.6950961741703656 and parameters: {'n_estimators': 175, 'max_depth': 17, 'min_samples_split': 13, 'min_samples_leaf': 4}. Best is trial 11 with value: 0.7136968928344959.\n",
      "[I 2024-10-14 17:10:56,902] Trial 16 finished with value: 0.6046290424857323 and parameters: {'n_estimators': 90, 'max_depth': 3, 'min_samples_split': 18, 'min_samples_leaf': 13}. Best is trial 11 with value: 0.7136968928344959.\n",
      "[I 2024-10-14 17:11:07,359] Trial 17 finished with value: 0.6837877827097865 and parameters: {'n_estimators': 176, 'max_depth': 13, 'min_samples_split': 15, 'min_samples_leaf': 3}. Best is trial 11 with value: 0.7136968928344959.\n",
      "[I 2024-10-14 17:11:24,209] Trial 18 finished with value: 0.6944620587613612 and parameters: {'n_estimators': 238, 'max_depth': 17, 'min_samples_split': 13, 'min_samples_leaf': 6}. Best is trial 11 with value: 0.7136968928344959.\n",
      "[I 2024-10-14 17:11:32,375] Trial 19 finished with value: 0.6972098922003804 and parameters: {'n_estimators': 121, 'max_depth': 20, 'min_samples_split': 18, 'min_samples_leaf': 13}. Best is trial 11 with value: 0.7136968928344959.\n",
      "[I 2024-10-14 17:11:39,486] Trial 20 finished with value: 0.6984781230183893 and parameters: {'n_estimators': 90, 'max_depth': 16, 'min_samples_split': 14, 'min_samples_leaf': 1}. Best is trial 11 with value: 0.7136968928344959.\n",
      "[I 2024-10-14 17:11:51,428] Trial 21 finished with value: 0.7093637708729655 and parameters: {'n_estimators': 122, 'max_depth': 20, 'min_samples_split': 18, 'min_samples_leaf': 2}. Best is trial 11 with value: 0.7136968928344959.\n",
      "[I 2024-10-14 17:12:06,716] Trial 22 finished with value: 0.7080955400549567 and parameters: {'n_estimators': 154, 'max_depth': 19, 'min_samples_split': 17, 'min_samples_leaf': 1}. Best is trial 11 with value: 0.7136968928344959.\n",
      "[I 2024-10-14 17:12:15,034] Trial 23 finished with value: 0.6947791164658634 and parameters: {'n_estimators': 112, 'max_depth': 18, 'min_samples_split': 11, 'min_samples_leaf': 6}. Best is trial 11 with value: 0.7136968928344959.\n",
      "[I 2024-10-14 17:12:27,437] Trial 24 finished with value: 0.7093637708729655 and parameters: {'n_estimators': 132, 'max_depth': 20, 'min_samples_split': 16, 'min_samples_leaf': 3}. Best is trial 11 with value: 0.7136968928344959.\n",
      "[I 2024-10-14 17:12:36,418] Trial 25 finished with value: 0.6854787571337984 and parameters: {'n_estimators': 161, 'max_depth': 13, 'min_samples_split': 19, 'min_samples_leaf': 3}. Best is trial 11 with value: 0.7136968928344959.\n",
      "[I 2024-10-14 17:12:42,569] Trial 26 finished with value: 0.6919255971253435 and parameters: {'n_estimators': 94, 'max_depth': 16, 'min_samples_split': 16, 'min_samples_leaf': 6}. Best is trial 11 with value: 0.7136968928344959.\n",
      "[I 2024-10-14 17:12:49,949] Trial 27 finished with value: 0.7060875079264426 and parameters: {'n_estimators': 78, 'max_depth': 19, 'min_samples_split': 17, 'min_samples_leaf': 1}. Best is trial 11 with value: 0.7136968928344959.\n",
      "[I 2024-10-14 17:12:56,312] Trial 28 finished with value: 0.6904459945043331 and parameters: {'n_estimators': 107, 'max_depth': 17, 'min_samples_split': 11, 'min_samples_leaf': 12}. Best is trial 11 with value: 0.7136968928344959.\n",
      "[I 2024-10-14 17:13:12,299] Trial 29 finished with value: 0.7030226167829211 and parameters: {'n_estimators': 198, 'max_depth': 19, 'min_samples_split': 9, 'min_samples_leaf': 5}. Best is trial 11 with value: 0.7136968928344959.\n",
      "2024/10/14 17:13:45 WARNING mlflow.models.model: Model logged without a signature and input example. Please set `input_example` parameter when logging the model to auto infer the model signature.\n",
      "2024/10/14 17:13:54 INFO mlflow.tracking._tracking_service.client: 🏃 View run RandomForest_SMOTE_TFIDF_Trigrams at: http://ec2-65-2-83-175.ap-south-1.compute.amazonaws.com:5000/#/experiments/938969902056822744/runs/aa6eb857a1de4d5a89bc920fc1de2587.\n",
      "2024/10/14 17:13:54 INFO mlflow.tracking._tracking_service.client: 🧪 View experiment at: http://ec2-65-2-83-175.ap-south-1.compute.amazonaws.com:5000/#/experiments/938969902056822744.\n"
     ]
    }
   ],
   "source": [
    "# Step 1: (Optional) Remapping - skipped since not strictly needed for Random Forest\n",
    "\n",
    "# Step 2: Remove rows where the target labels (category) are NaN\n",
    "df = df.dropna(subset=['category'])\n",
    "\n",
    "# Step 3: TF-IDF vectorizer setup\n",
    "ngram_range = (1, 3)  # Trigram\n",
    "max_features = 1000  # Set max_features to 1000\n",
    "vectorizer = TfidfVectorizer(ngram_range=ngram_range, max_features=max_features)\n",
    "X = vectorizer.fit_transform(df['clean_comment'])\n",
    "y = df['category']\n",
    "\n",
    "# Step 4: Apply SMOTE to handle class imbalance\n",
    "smote = SMOTE(random_state=42)\n",
    "X_resampled, y_resampled = smote.fit_resample(X, y)\n",
    "\n",
    "# Step 5: Train-test split\n",
    "X_train, X_test, y_train, y_test = train_test_split(X_resampled, y_resampled, test_size=0.2, random_state=42, stratify=y_resampled)\n",
    "\n",
    "# Function to log results in MLflow\n",
    "def log_mlflow(model_name, model, X_train, X_test, y_train, y_test):\n",
    "    with mlflow.start_run():\n",
    "        # Log model type\n",
    "        mlflow.set_tag(\"mlflow.runName\", f\"{model_name}_SMOTE_TFIDF_Trigrams\")\n",
    "        mlflow.set_tag(\"experiment_type\", \"algorithm_comparison\")\n",
    "\n",
    "        # Log algorithm name as a parameter\n",
    "        mlflow.log_param(\"algo_name\", model_name)\n",
    "\n",
    "        # Train model\n",
    "        model.fit(X_train, y_train)\n",
    "        y_pred = model.predict(X_test)\n",
    "\n",
    "        # Log accuracy\n",
    "        accuracy = accuracy_score(y_test, y_pred)\n",
    "        mlflow.log_metric(\"accuracy\", accuracy)\n",
    "\n",
    "        # Log classification report\n",
    "        classification_rep = classification_report(y_test, y_pred, output_dict=True)\n",
    "        for label, metrics in classification_rep.items():\n",
    "            if isinstance(metrics, dict):\n",
    "                for metric, value in metrics.items():\n",
    "                    mlflow.log_metric(f\"{label}_{metric}\", value)\n",
    "\n",
    "        # Log the model\n",
    "        mlflow.sklearn.log_model(model, f\"{model_name}_model\")\n",
    "\n",
    "\n",
    "# Step 6: Optuna objective function for Random Forest\n",
    "def objective_rf(trial):\n",
    "    n_estimators = trial.suggest_int('n_estimators', 50, 300)  # Number of trees in the forest\n",
    "    max_depth = trial.suggest_int('max_depth', 3, 20)  # Maximum depth of the tree\n",
    "    min_samples_split = trial.suggest_int('min_samples_split', 2, 20)  # Minimum samples required to split a node\n",
    "    min_samples_leaf = trial.suggest_int('min_samples_leaf', 1, 20)  # Minimum samples required at a leaf node\n",
    "\n",
    "    # RandomForestClassifier setup\n",
    "    model = RandomForestClassifier(n_estimators=n_estimators, max_depth=max_depth,\n",
    "                                   min_samples_split=min_samples_split, min_samples_leaf=min_samples_leaf,\n",
    "                                   random_state=42)\n",
    "    return accuracy_score(y_test, model.fit(X_train, y_train).predict(X_test))\n",
    "\n",
    "\n",
    "# Step 7: Run Optuna for Random Forest, log the best model only\n",
    "def run_optuna_experiment():\n",
    "    study = optuna.create_study(direction=\"maximize\")\n",
    "    study.optimize(objective_rf, n_trials=30)\n",
    "\n",
    "    # Get the best parameters and log only the best model\n",
    "    best_params = study.best_params\n",
    "    best_model = RandomForestClassifier(n_estimators=best_params['n_estimators'],\n",
    "                                        max_depth=best_params['max_depth'],\n",
    "                                        min_samples_split=best_params['min_samples_split'],\n",
    "                                        min_samples_leaf=best_params['min_samples_leaf'],\n",
    "                                        random_state=42)\n",
    "\n",
    "    # Log the best model with MLflow, passing the algo_name as \"RandomForest\"\n",
    "    log_mlflow(\"RandomForest\", best_model, X_train, X_test, y_train, y_test)\n",
    "\n",
    "# Run the experiment for Random Forest\n",
    "run_optuna_experiment()"
   ]
  },
  {
   "cell_type": "code",
   "execution_count": null,
   "metadata": {},
   "outputs": [],
   "source": []
  }
 ],
 "metadata": {
  "kernelspec": {
   "display_name": "Python 3",
   "language": "python",
   "name": "python3"
  },
  "language_info": {
   "codemirror_mode": {
    "name": "ipython",
    "version": 3
   },
   "file_extension": ".py",
   "mimetype": "text/x-python",
   "name": "python",
   "nbconvert_exporter": "python",
   "pygments_lexer": "ipython3",
   "version": "3.12.5"
  }
 },
 "nbformat": 4,
 "nbformat_minor": 2
}
